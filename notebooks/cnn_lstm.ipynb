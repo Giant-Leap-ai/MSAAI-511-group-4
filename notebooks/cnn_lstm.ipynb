{
 "cells": [
  {
   "cell_type": "markdown",
   "id": "cbce3587",
   "metadata": {},
   "source": [
    "# Final Project - Piano Roll Extraction -SRC\n",
    "- Course: AAI-511-Neural Networks\n",
    "- Institution: University of San Diego\n",
    "- Professor: Kahila Mokhtari Jadid\n",
    "- Group 4 Members: \n",
    "    * Lucas Young\n",
    "    * Titouan Margret\n",
    "    * Juan Pablo Triana Martinez\n",
    "\n",
    "This notebook has the intention to follow `data_piano_roll_extraction.ipynb`, but using `src` folder with all functions and classes, with the purpose to:\n",
    "\n",
    "### CNN-LSTM Model\n",
    "\n",
    "The following document contains the following:\n",
    "1. Obtain all piano rolls with certain threshold, as well as appropiate labels.\n",
    "2. Split the data into `train_set` and `test_set` using an 80:20 ratio.\n",
    "3. We would set up a `train_dataset` and `test_dataset` using `torch.utils.data.Dataset`.\n",
    "4. We would set up a `train_dataloader` and `test_dataloader` using `torch.utils.data.Dataloader` with Batch size = 32.\n",
    "5. Setup a `torch.nn` CNN model with the following characteristics:\n",
    "    - Optimizer: Adam with lr = 0.001\n",
    "    - Loss function: Cross Entrpy Loss with weights.\n",
    "    - Same number of layers, we would change the \n",
    "6. Plot the `train_loss` and `test_loss`, combined with proper metrics: (Accuracy, Precision, Recall, F1-score)\n",
    "7. Using that trained model, visualize the learned features across different "
   ]
  },
  {
   "cell_type": "code",
   "execution_count": 69,
   "id": "fe7c58ea",
   "metadata": {},
   "outputs": [
    {
     "name": "stdout",
     "output_type": "stream",
     "text": [
      "C:\\Users\\ajedr\\OneDrive\\Documentos\\Masters_Post_Cert_AI_Stanford_USD_2023_2026\\Masters_AI_Workspace\\src\\MSAAI-511-group-4\n",
      "True\n"
     ]
    }
   ],
   "source": [
    "import sys\n",
    "from pathlib import Path\n",
    "import matplotlib.pyplot as plt\n",
    "import os\n",
    "\n",
    "path = Path().resolve().parent\n",
    "notebook_path = str(path)\n",
    "print(path)\n",
    "print(path.exists())\n",
    "sys.path.insert(1, notebook_path) "
   ]
  },
  {
   "cell_type": "code",
   "execution_count": 70,
   "id": "6042c796",
   "metadata": {},
   "outputs": [],
   "source": [
    "#Import necessary modules\n",
    "import os\n",
    "import numpy as np\n",
    "import kagglehub\n",
    "from src import MidiPreprocesser, obtain_piano_rolls, PianoRollsDiscreteEqualizer"
   ]
  },
  {
   "cell_type": "code",
   "execution_count": 71,
   "id": "1eadccd8",
   "metadata": {},
   "outputs": [
    {
     "name": "stdout",
     "output_type": "stream",
     "text": [
      "c:\\Users\\ajedr\\OneDrive\\Documentos\\Masters_Post_Cert_AI_Stanford_USD_2023_2026\\Masters_AI_Workspace\\src\\MSAAI-511-group-4\\data: Already exists, no need to create a new one\n",
      "c:\\Users\\ajedr\\OneDrive\\Documentos\\Masters_Post_Cert_AI_Stanford_USD_2023_2026\\Masters_AI_Workspace\\src\\MSAAI-511-group-4\\data\\final_proj_data: Already exists, no need to create a new one\n"
     ]
    }
   ],
   "source": [
    "# Obtain current path and data folder path\n",
    "curr_path = Path.cwd()\n",
    "download_path = curr_path.parent / \"data\"\n",
    "data_path = download_path / \"final_proj_data\"\n",
    "\n",
    "#Setup download path to specific data fold (GENUIENLY, Why Kaggelhub :) )\n",
    "os.environ[\"KAGGLEHUB_CACHE\"] = download_path.__str__()\n",
    "\n",
    "if download_path.exists():\n",
    "    print(f\"{download_path}: Already exists, no need to create a new one\")\n",
    "else:\n",
    "    download_path.mkdir(parents=True, exist_ok=True)\n",
    "\n",
    "if data_path.exists():\n",
    "    print(f\"{data_path}: Already exists, no need to create a new one\")\n",
    "else:\n",
    "    data_path.mkdir(parents=True, exist_ok=True)\n",
    "\n",
    "# Download latest version\n",
    "# path = kagglehub.dataset_download(\"blanderbuss/midi-classic-music\")\n",
    "# print(\"Path to dataset files:\", path)"
   ]
  },
  {
   "cell_type": "code",
   "execution_count": 72,
   "id": "58c32dd0",
   "metadata": {},
   "outputs": [
    {
     "name": "stderr",
     "output_type": "stream",
     "text": [
      "Reading_final_proj_data files...: 0it [00:00, ?it/s]\n",
      "Reading_Bach files...: 100%|██████████| 122/122 [00:03<00:00, 35.34it/s]\n",
      "Reading composers..: 2it [00:03,  1.73s/it]"
     ]
    },
    {
     "name": "stdout",
     "output_type": "stream",
     "text": [
      "Anhang 14-3.mid cannot be read, is skipped\n"
     ]
    },
    {
     "name": "stderr",
     "output_type": "stream",
     "text": [
      "Reading_Beethoven files...: 100%|██████████| 133/133 [00:08<00:00, 16.47it/s]\n",
      "Reading_Chopin files...: 100%|██████████| 136/136 [00:04<00:00, 33.34it/s]\n",
      "Reading_Mozart files...: 100%|██████████| 90/90 [00:03<00:00, 27.14it/s]\n",
      "Reading composers..: 5it [00:18,  3.79s/it]\n"
     ]
    }
   ],
   "source": [
    "midipreprocesser = MidiPreprocesser(data_path = data_path)\n",
    "midiobj, labels_composer = midipreprocesser.get_midi_info()"
   ]
  },
  {
   "cell_type": "code",
   "execution_count": null,
   "id": "948c95a0",
   "metadata": {},
   "outputs": [],
   "source": [
    "list_np_arrays, list_composer_names, list_song_names = obtain_piano_rolls(midiobject = midiobj)"
   ]
  },
  {
   "cell_type": "code",
   "execution_count": 74,
   "id": "3d620e6b",
   "metadata": {},
   "outputs": [
    {
     "name": "stderr",
     "output_type": "stream",
     "text": [
      "Equalizing piano rolls...: 100%|██████████| 480/480 [00:00<00:00, 4363.80it/s]\n"
     ]
    }
   ],
   "source": [
    "equalizer = PianoRollsDiscreteEqualizer(piano_rolls = list_np_arrays, threshold = 2515)\n",
    "eq_piano_rolls = equalizer.get_equalized()"
   ]
  },
  {
   "cell_type": "code",
   "execution_count": 75,
   "id": "746db05f",
   "metadata": {},
   "outputs": [
    {
     "name": "stdout",
     "output_type": "stream",
     "text": [
      "(480, 128, 2515)\n",
      "480\n"
     ]
    }
   ],
   "source": [
    "print(eq_piano_rolls.shape)\n",
    "print(len(labels_composer))"
   ]
  },
  {
   "cell_type": "markdown",
   "id": "e009b3ac",
   "metadata": {},
   "source": [
    "### Let's see the labels distribution.\n",
    "What we want to do is to create a function that does the following:\n",
    "1. Receive the `labels_composer` and determine the unique labels.\n",
    "2. Count the number of times per label\n",
    "3. Use these counts to create the classes"
   ]
  },
  {
   "cell_type": "code",
   "execution_count": 76,
   "id": "a4c37091",
   "metadata": {},
   "outputs": [
    {
     "data": {
      "image/png": "[encoded data removed]",
      "text/plain": [
       "<Figure size 1600x800 with 1 Axes>"
      ]
     },
     "metadata": {},
     "output_type": "display_data"
    }
   ],
   "source": [
    "fig = plt.figure(figsize=(16, 8))\n",
    "fig.suptitle(\"Label distribution: 1-> Bach, 2-> Bethoven, 3-> Chopin, 4-> Mozart\")\n",
    "ax1 = fig.add_subplot(1, 1, 1)\n",
    "ax1.hist(labels_composer)\n",
    "plt.show()"
   ]
  },
  {
   "cell_type": "code",
   "execution_count": 77,
   "id": "703101f4",
   "metadata": {},
   "outputs": [],
   "source": [
    "# Let's import the necessary modules\n",
    "from torch.utils.data import Dataset, DataLoader\n",
    "from pathlib import Path\n",
    "import os\n",
    "from sklearn.model_selection import train_test_split\n",
    "from typing import Union, Tuple\n",
    "import torch\n",
    "import matplotlib.pyplot as plt"
   ]
  },
  {
   "cell_type": "markdown",
   "id": "6e568fb1",
   "metadata": {},
   "source": [
    "### Perfect, now let's do:\n",
    "\n",
    "1. We would set up a `train_dataset` and `test_dataset` using `torch.utils.data.Dataset` \n",
    "2. We would set up a `train_dataloader` and `test_dataloader` using `torch.utils.data.Dataloader` with Batch size = 32."
   ]
  },
  {
   "cell_type": "code",
   "execution_count": 78,
   "id": "60e33327",
   "metadata": {},
   "outputs": [],
   "source": [
    "class CNNLSTMPianoDataset(Dataset):\n",
    "    '''\n",
    "    Flavia Dataset class that would contain all of\n",
    "    the passed data and labels.\n",
    "\n",
    "    Args: \n",
    "        data: np.ndarray containing all of the data (N, 128, T)\n",
    "        label: np.ndarray containing all of the data of size (N, )\n",
    "        seq_length: integer defining sequence length size.\n",
    "\n",
    "    Returns\n",
    "        flaviadataset = a torch.utils.Dataset that would\n",
    "        access the corresponding data folder to retrieve\n",
    "        all required images and labels.\n",
    "\n",
    "    Example\n",
    "        cnn_piano_dataset = CNNLSTMPianoDataset(data = np_data, label = np_label)\n",
    "        (img , label) = Preflaviadataset[0]\n",
    "    '''\n",
    "    def __init__(self,\n",
    "                data:np.ndarray,\n",
    "                label:np.ndarray,\n",
    "                seq_Length:int = 4) -> None:\n",
    "        super().__init__()\n",
    "\n",
    "        # Let's obtain the torch.tensor\n",
    "        self.data = torch.from_numpy(data).to(torch.float32).unsqueeze(dim=1) # Data shape: (N, 1, 128, 2515)\n",
    "        self.label = torch.from_numpy(label).type(torch.LongTensor) # Data Label: (N, 1)\n",
    "        self.seq_length = seq_Length\n",
    "    \n",
    "    def __len__(self):\n",
    "        return len(self.data) - self.seq_length\n",
    "\n",
    "    def __getitem__(self, idx):\n",
    "        data = self.data[idx:idx + self.seq_length] # shape (seq_length, 1, 128, 2515)\n",
    "        label = self.label[idx + self.seq_length - 1] # shape (seq_length, )\n",
    "        return data, label"
   ]
  },
  {
   "cell_type": "code",
   "execution_count": 79,
   "id": "c009b391",
   "metadata": {},
   "outputs": [
    {
     "name": "stdout",
     "output_type": "stream",
     "text": [
      "Sample image for: label -> 1, torch.Size([]); img -> torch.Size([4, 1, 128, 2515]); Song: -> Sieben Bagatellen, C Major, Opus.33, No.2\n"
     ]
    }
   ],
   "source": [
    "# Let's setup a sequence length of 4\n",
    "SEQ_LENGTH = 4\n",
    "\n",
    "cnn_piano_dataset = CNNLSTMPianoDataset(\n",
    "    data = eq_piano_rolls,\n",
    "    label = np.array(labels_composer),\n",
    "    seq_Length=SEQ_LENGTH)\n",
    "\n",
    "# Let's see the shape\n",
    "index = 200\n",
    "(img , label) = cnn_piano_dataset[index]\n",
    "print(f\"Sample image for: label -> {label}, {label.shape}; img -> {img.shape}; Song: -> {list_song_names[index]}\")"
   ]
  },
  {
   "cell_type": "markdown",
   "id": "488a6759",
   "metadata": {},
   "source": [
    "### Now let's do the following!\n",
    "1. We are gonna split into train, val, and test data using `train_test_split` from `sklean.model_selection`.\n",
    "\n"
   ]
  },
  {
   "cell_type": "code",
   "execution_count": 80,
   "id": "978afc05",
   "metadata": {},
   "outputs": [
    {
     "name": "stdout",
     "output_type": "stream",
     "text": [
      "==================================\n",
      "X_train piano roll data shape: (384, 128, 2515)\n",
      "y_train piano roll data shape: (384,)\n",
      "X_val piano roll data shape: (48, 128, 2515)\n",
      "y_val piano roll data shape : (48,)\n",
      "X_test piano roll data shape : (48, 128, 2515)\n",
      "y_test piano roll data shape : (48,)\n",
      "==================================\n"
     ]
    }
   ],
   "source": [
    "# Import necessary modules\n",
    "from sklearn.model_selection import train_test_split\n",
    "\n",
    "# Obtain the data into train_val and test\n",
    "X_train, X_remaining, y_train, y_remaining = train_test_split(eq_piano_rolls,\n",
    "    np.array(labels_composer), test_size=0.2, shuffle=True, random_state=42)\n",
    "\n",
    "X_val, X_test, y_val, y_test = train_test_split(X_remaining, y_remaining, \n",
    "    test_size=0.5, shuffle=True, random_state=42)\n",
    "\n",
    "print(\"==================================\")\n",
    "print(f\"X_train piano roll data shape: {X_train.shape}\")\n",
    "print(f\"y_train piano roll data shape: {y_train.shape}\")\n",
    "print(f\"X_val piano roll data shape: {X_val.shape}\")\n",
    "print(f\"y_val piano roll data shape : {y_val.shape}\")\n",
    "print(f\"X_test piano roll data shape : {X_test.shape}\")\n",
    "print(f\"y_test piano roll data shape : {y_test.shape}\")\n",
    "print(\"==================================\")"
   ]
  },
  {
   "cell_type": "code",
   "execution_count": 81,
   "id": "83c673c9",
   "metadata": {},
   "outputs": [],
   "source": [
    "from typing import List\n",
    "def counts_labels(labels: List[int]) -> dict:\n",
    "    # Count each label\n",
    "    counts = {}\n",
    "    for i in labels:\n",
    "        if i in counts:\n",
    "            counts[i] += 1\n",
    "        else:\n",
    "            counts[i] = 1\n",
    "    \n",
    "    # Compute class percentages\n",
    "    class_percs = []\n",
    "    for i in range(len(counts)):\n",
    "        value = counts[i]\n",
    "        class_percs.append(value/len(labels))\n",
    "\n",
    "    # Reverse rank the percentages\n",
    "    sorted_percs = sorted(class_percs, reverse=True)\n",
    "    reversed_percs = sorted(sorted_percs)  # the smallest to largest\n",
    "\n",
    "    # Map each original percentage to its reversed rank\n",
    "    mapping = {}\n",
    "    for orig, rev in zip(sorted_percs, reversed_percs):\n",
    "        mapping[orig] = rev\n",
    "\n",
    "    # Apply the reversed mapping preserving the original order\n",
    "    adjusted_percentages = [mapping[p] for p in class_percs]\n",
    "\n",
    "    return counts, class_percs, adjusted_percentages\n"
   ]
  },
  {
   "cell_type": "code",
   "execution_count": 82,
   "id": "efba42c0",
   "metadata": {},
   "outputs": [
    {
     "name": "stdout",
     "output_type": "stream",
     "text": [
      "[0.2421875, 0.2916666666666667, 0.2916666666666667, 0.17447916666666666]\n",
      "[0.2421875, 0.2916666666666667, 0.2916666666666667, 0.17447916666666666]\n",
      "[0.2916666666666667, 0.2421875, 0.2421875, 0.2916666666666667]\n"
     ]
    }
   ],
   "source": [
    "### Return the counts\n",
    "y_train_counts, y_train_percs, y_train_rev_percs = counts_labels(y_train)\n",
    "print(y_train_percs)\n",
    "print(y_train_percs)\n",
    "print(y_train_rev_percs)"
   ]
  },
  {
   "cell_type": "code",
   "execution_count": 83,
   "id": "9b47f789",
   "metadata": {},
   "outputs": [
    {
     "data": {
      "image/png": "[encoded data removed]",
      "text/plain": [
       "<Figure size 2000x500 with 3 Axes>"
      ]
     },
     "metadata": {},
     "output_type": "display_data"
    }
   ],
   "source": [
    "fig = plt.figure(figsize=(20, 5))\n",
    "ax1 = fig.add_subplot(1, 3, 1)\n",
    "ax1.hist(y_train, label = \"y_train distribution\")\n",
    "ax1.legend(loc = \"upper right\")\n",
    "ax2 = fig.add_subplot(1, 3, 2)\n",
    "ax2.hist(y_val, label = \"y_val distribution\", color=\"red\")\n",
    "ax2.legend(loc = \"upper right\")\n",
    "ax3 = fig.add_subplot(1, 3, 3)\n",
    "ax3.hist(y_test, label = \"y_test distribution\", color = \"green\")\n",
    "ax3.legend(loc = \"upper right\")\n",
    "plt.show()"
   ]
  },
  {
   "cell_type": "markdown",
   "id": "851e1f17",
   "metadata": {},
   "source": [
    "### Its key to see these distributions\n",
    "1. Our baseline model is dependent on directly the data with the range of the `velocity` from MIDI files, which is between 0 to 128.\n",
    "2. We haven't done any standardization or normalization, we want to see the model performance with data that is not tempered.\n",
    "3. We are not adata augmenting or undersampling, the reason is simple; due to constraints of time, a proper data balancing is a bit too much for a baseline model. We would however do the balancing for the **CNN-LSTM approach**."
   ]
  },
  {
   "cell_type": "code",
   "execution_count": 84,
   "id": "c9b8ad67",
   "metadata": {},
   "outputs": [
    {
     "name": "stdout",
     "output_type": "stream",
     "text": [
      "For index 5, data shape: torch.Size([2, 1, 128, 2515]), label shape 1\n",
      "For index 5, data shape: torch.Size([2, 1, 128, 2515]), label shape 2\n",
      "For index 5, data shape: torch.Size([2, 1, 128, 2515]), label shape 1\n"
     ]
    }
   ],
   "source": [
    "# Lets obtain the housing datasets for all\n",
    "SEQ_LENGTH = 2\n",
    "\n",
    "X_train_dataset = CNNLSTMPianoDataset(X_train, y_train, SEQ_LENGTH)\n",
    "X_val_dataset = CNNLSTMPianoDataset(X_val, y_val, SEQ_LENGTH)\n",
    "X_test_dataset = CNNLSTMPianoDataset(X_test, y_test, SEQ_LENGTH)\n",
    "\n",
    "index = 5\n",
    "data, label = X_train_dataset[index]\n",
    "print(f\"For index {index}, data shape: {data.shape}, label shape {label}\")\n",
    "data, label = X_val_dataset[index]\n",
    "print(f\"For index {index}, data shape: {data.shape}, label shape {label}\")\n",
    "data, label = X_test_dataset[index]\n",
    "print(f\"For index {index}, data shape: {data.shape}, label shape {label}\")"
   ]
  },
  {
   "cell_type": "code",
   "execution_count": 85,
   "id": "b7112d22",
   "metadata": {},
   "outputs": [
    {
     "name": "stdout",
     "output_type": "stream",
     "text": [
      "torch.Size([10, 2, 1, 128, 2515])\n",
      "torch.Size([10])\n",
      "39\n"
     ]
    },
    {
     "name": "stderr",
     "output_type": "stream",
     "text": [
      "c:\\Users\\ajedr\\OneDrive\\Documentos\\Masters_Post_Cert_AI_Stanford_USD_2023_2026\\Masters_AI_Workspace\\venv\\Lib\\site-packages\\torch\\utils\\data\\dataloader.py:665: UserWarning: 'pin_memory' argument is set as true but no accelerator is found, then device pinned memory won't be used.\n",
      "  warnings.warn(warn_msg)\n"
     ]
    }
   ],
   "source": [
    "BATCH_SIZE = 10\n",
    "#NUM_WORKERS = os.cpu_count()\n",
    "NUM_WORKERS = 0\n",
    "\n",
    "train_dataloader = DataLoader(\n",
    "    dataset=X_train_dataset,\n",
    "    batch_size = BATCH_SIZE,\n",
    "    shuffle = True,\n",
    "    num_workers = NUM_WORKERS,\n",
    "    pin_memory = True\n",
    ")\n",
    "\n",
    "val_dataloader = DataLoader(\n",
    "    dataset=X_val_dataset,\n",
    "    batch_size=BATCH_SIZE,\n",
    "    num_workers=NUM_WORKERS,\n",
    "    shuffle=False,\n",
    "    pin_memory=True)\n",
    "\n",
    "test_dataloader = DataLoader(\n",
    "    dataset=X_test_dataset,\n",
    "    batch_size=BATCH_SIZE,\n",
    "    num_workers=NUM_WORKERS,\n",
    "    shuffle=False,\n",
    "    pin_memory=True)\n",
    "\n",
    "a, b = next(iter(train_dataloader))\n",
    "print(a.shape)\n",
    "print(b.shape)\n",
    "print(len(train_dataloader))"
   ]
  },
  {
   "cell_type": "markdown",
   "id": "1819252c",
   "metadata": {},
   "source": [
    "### Stepping through a sample\n",
    "1. To check weather the model would behave properly,\n",
    "2. Our input is the format of: `(Batch_size, Seq_length, Height, Width)`\n",
    "2. For the CNN-LSTM Mode, we would use the convolution layers as extractors `(Batch_size * Seq_Length, Channels, Height, Width)`\n",
    "3. We would use the LSTM model to take an input of size `(Batch_size, )`"
   ]
  },
  {
   "cell_type": "code",
   "execution_count": 86,
   "id": "24f42b57",
   "metadata": {},
   "outputs": [
    {
     "name": "stdout",
     "output_type": "stream",
     "text": [
      "Batch_size: 10\n",
      "Seq_Length: 2\n",
      "Channel_in: 1\n",
      "Height: 128\n",
      "Width: 2515\n",
      "torch.Size([10, 2, 1, 128, 2515])\n",
      "torch.Size([20, 10, 126, 2513])\n",
      "torch.Size([20, 10, 124, 2511])\n",
      "torch.Size([20, 10, 62, 1255])\n"
     ]
    }
   ],
   "source": [
    "import torch.nn as nn\n",
    "\n",
    "# Let's get a sample from train dataloader\n",
    "X_sample, y_sample = next(iter(train_dataloader))\n",
    "\n",
    "# Pass the data through the convolutional layer\n",
    "Batch_size, Seq_length, Channel_in, Height, Width = X_sample.shape\n",
    "\n",
    "print(f\"Batch_size: {Batch_size}\")\n",
    "print(f\"Seq_Length: {Seq_length}\")\n",
    "print(f\"Channel_in: {Channel_in}\")\n",
    "print(f\"Height: {Height}\")\n",
    "print(f\"Width: {Width}\")\n",
    "\n",
    "conv_layer_1 = nn.Conv2d(in_channels = Channel_in,\n",
    "                       out_channels = 10,\n",
    "                       kernel_size= 3,\n",
    "                       stride = 1,\n",
    "                       padding = 0)\n",
    "\n",
    "\n",
    "conv_layer_2 = nn.Conv2d(in_channels = 10,\n",
    "                       out_channels = 10,\n",
    "                       kernel_size= 3,\n",
    "                       stride = 1,\n",
    "                       padding = 0)\n",
    "\n",
    "max_pool_layer = nn.MaxPool2d(kernel_size=2)\n",
    "\n",
    "print(X_sample.shape)\n",
    "conv_output_1 = conv_layer_1(X_sample.view(Batch_size * Seq_length, Channel_in, Height, Width))\n",
    "print(conv_output_1.shape)\n",
    "conv_output_2 = conv_layer_2(conv_output_1)\n",
    "print(conv_output_2.shape)\n",
    "output = max_pool_layer(conv_output_2)\n",
    "print(output.shape)"
   ]
  },
  {
   "cell_type": "markdown",
   "id": "e7eaddc9",
   "metadata": {},
   "source": [
    "### 8. Create a CNN model using `torch.nn`\n",
    "\n",
    "We are gonna also test that it receives the proper input"
   ]
  },
  {
   "cell_type": "code",
   "execution_count": 87,
   "id": "3423ae4d",
   "metadata": {},
   "outputs": [],
   "source": [
    "import torch\n",
    "from torch import nn\n",
    "\n",
    "class TinyVGGLSTM(nn.Module):\n",
    "  '''\n",
    "  Creates the TinyVGGLSTM Architecture.\n",
    "\n",
    "  Replicates the TinyVGG architecture from the CNN explainer website in PyTorch.\n",
    "  See the original architecture here: https://poloclub.github.io/cnn-explainer/\n",
    "\n",
    "  Also, we added from assignment 5 the LSTM layer to actually add the sequence analysis\n",
    "  using the following logic:\n",
    "  - Use CNN layers to extract features using input as x.view(B * Seq, C_in, H_in, W_in)\n",
    "  - After extracting all CNN features, flatten the array to size (B * Seq, -1)\n",
    "  - Reformat this CNN output latent vector space to x.view(B, Seq, -1)\n",
    "  - Use this as input to the LSTM layer\n",
    "\n",
    "  Args:\n",
    "    batch_size: An integer indicaring number of batch_size (classifier parameter).\n",
    "    cnn_input_shape: An integer indicating number of input for CNN channels.\n",
    "    lstm_input_shape: An integet indicating number of input units for LSTM\n",
    "    cnn_hidden_units: An integer indicating number of hidden units between cnn layers.\n",
    "    lstm_hidden_units: An integer indicating number of hidden units for LSTM layer.\n",
    "    output_shape: An integer indicating number of output units.\n",
    "  '''\n",
    "  def __init__(self,\n",
    "      cnn_input_shape:int,\n",
    "      lstm_input_shape:int,\n",
    "      cnn_hidden_units:int,\n",
    "      lstm_hidden_units:int,\n",
    "      output_shape:int) -> None:\n",
    "\n",
    "    super().__init__()\n",
    "    self.cnn_hidden_units = cnn_hidden_units\n",
    "    self.lstm_hidden_units = lstm_hidden_units\n",
    "    self.conv_block_1 = nn.Sequential(\n",
    "        nn.Conv2d(in_channels=cnn_input_shape,\n",
    "                  out_channels=cnn_hidden_units,\n",
    "                  kernel_size=3, \n",
    "                  stride=1, \n",
    "                  padding=0),\n",
    "        nn.ReLU(),\n",
    "        nn.Conv2d(in_channels=cnn_hidden_units,\n",
    "                  out_channels=cnn_hidden_units,\n",
    "                  kernel_size=3,\n",
    "                  stride=1,\n",
    "                  padding=0),\n",
    "        nn.ReLU(),\n",
    "        nn.MaxPool2d(kernel_size=2,\n",
    "                      stride=2) \n",
    "    )\n",
    "\n",
    "    self.conv_block_2 = nn.Sequential(\n",
    "        nn.Conv2d(cnn_hidden_units, cnn_hidden_units, kernel_size=3, padding=0),\n",
    "        nn.ReLU(),\n",
    "        nn.Conv2d(cnn_hidden_units, cnn_hidden_units, kernel_size=3, padding=0),\n",
    "        nn.ReLU(),\n",
    "        nn.MaxPool2d(2)\n",
    "    )\n",
    "\n",
    "    self.conv_block_3 = nn.Sequential(\n",
    "        nn.Conv2d(cnn_hidden_units, cnn_hidden_units, kernel_size=3, padding=0),\n",
    "        nn.ReLU(),\n",
    "        nn.Conv2d(cnn_hidden_units, cnn_hidden_units, kernel_size=3, padding=0),\n",
    "        nn.ReLU(),\n",
    "        nn.MaxPool2d(2)\n",
    "    )\n",
    "\n",
    "    self.conv_block_4 = nn.Sequential(\n",
    "        nn.Conv2d(cnn_hidden_units, cnn_hidden_units, kernel_size=3, padding=0),\n",
    "        nn.ReLU(),\n",
    "        nn.Conv2d(cnn_hidden_units, cnn_hidden_units, kernel_size=3, padding=0),\n",
    "        nn.ReLU(),\n",
    "        nn.MaxPool2d(2)\n",
    "    )\n",
    "\n",
    "\n",
    "    # Let's create the layers -> Batch, Seq, Input\n",
    "    self.lstm_layer = torch.nn.LSTM(lstm_input_shape,\n",
    "                                    lstm_hidden_units,\n",
    "                                    batch_first=True)\n",
    "\n",
    "    self.classifier = nn.Sequential(\n",
    "        nn.Linear(lstm_hidden_units, 256),\n",
    "        nn.ReLU(),\n",
    "        nn.Dropout(0.3),\n",
    "        nn.Linear(256, output_shape)\n",
    "    )\n",
    "\n",
    "  def forward(self, x: torch.Tensor):\n",
    "\n",
    "    # Pass the data through the convolutional layer\n",
    "    Batch_size, Seq_length, Channel_in, Height, Width = x.shape\n",
    "\n",
    "    # Pass the data through multiple convolution blocks to obtain better temporal features\n",
    "    x = self.conv_block_1(x.view(Batch_size * Seq_length, Channel_in, Height, Width))\n",
    "    x = self.conv_block_2(x)\n",
    "    x = self.conv_block_3(x)\n",
    "    x = self.conv_block_4(x)\n",
    "\n",
    "    # Now let's flatten the convolution output to (Batch_size * Seq_length, all dims)\n",
    "    cnn_output_flat = x.view(Batch_size * Seq_length, -1)\n",
    "\n",
    "    # And now let's get the LSTM input to (Batch_size, Seq_length, dims)\n",
    "    lstm_input = cnn_output_flat.view(Batch_size, Seq_length, -1)\n",
    "\n",
    "    # lstm input shape is (4, 4, 6120) -? Different shapes to cnn_input_shape requires some testing\n",
    "    # to match lstm_input_shape\n",
    "\n",
    "    # Let's initialize a random hidden state and cell state h0 and c0\n",
    "    h0 = torch.zeros(1, lstm_input.size(dim = 0), self.lstm_hidden_units, device=x.device)\n",
    "    c0 = torch.zeros(1, lstm_input.size(dim = 0), self.lstm_hidden_units, device=x.device)\n",
    "    out, __ = self.lstm_layer(lstm_input, (h0, c0))\n",
    "    out = self.classifier(out[:, -1, :])\n",
    "\n",
    "    return out"
   ]
  },
  {
   "cell_type": "code",
   "execution_count": 88,
   "id": "0df80e99",
   "metadata": {},
   "outputs": [
    {
     "name": "stdout",
     "output_type": "stream",
     "text": [
      "Batch_size: 10\n",
      "Seq_Length: 2\n",
      "Channel_in: 1\n",
      "Height: 128\n",
      "Width: 2515\n"
     ]
    },
    {
     "data": {
      "text/plain": [
       "==========================================================================================\n",
       "Layer (type:depth-idx)                   Output Shape              Param #\n",
       "==========================================================================================\n",
       "TinyVGGLSTM                              [10, 4]                   --\n",
       "├─Sequential: 1-1                        [20, 10, 62, 1255]        --\n",
       "│    └─Conv2d: 2-1                       [20, 10, 126, 2513]       100\n",
       "│    └─ReLU: 2-2                         [20, 10, 126, 2513]       --\n",
       "│    └─Conv2d: 2-3                       [20, 10, 124, 2511]       910\n",
       "│    └─ReLU: 2-4                         [20, 10, 124, 2511]       --\n",
       "│    └─MaxPool2d: 2-5                    [20, 10, 62, 1255]        --\n",
       "├─Sequential: 1-2                        [20, 10, 29, 625]         --\n",
       "│    └─Conv2d: 2-6                       [20, 10, 60, 1253]        910\n",
       "│    └─ReLU: 2-7                         [20, 10, 60, 1253]        --\n",
       "│    └─Conv2d: 2-8                       [20, 10, 58, 1251]        910\n",
       "│    └─ReLU: 2-9                         [20, 10, 58, 1251]        --\n",
       "│    └─MaxPool2d: 2-10                   [20, 10, 29, 625]         --\n",
       "├─Sequential: 1-3                        [20, 10, 12, 310]         --\n",
       "│    └─Conv2d: 2-11                      [20, 10, 27, 623]         910\n",
       "│    └─ReLU: 2-12                        [20, 10, 27, 623]         --\n",
       "│    └─Conv2d: 2-13                      [20, 10, 25, 621]         910\n",
       "│    └─ReLU: 2-14                        [20, 10, 25, 621]         --\n",
       "│    └─MaxPool2d: 2-15                   [20, 10, 12, 310]         --\n",
       "├─Sequential: 1-4                        [20, 10, 4, 153]          --\n",
       "│    └─Conv2d: 2-16                      [20, 10, 10, 308]         910\n",
       "│    └─ReLU: 2-17                        [20, 10, 10, 308]         --\n",
       "│    └─Conv2d: 2-18                      [20, 10, 8, 306]          910\n",
       "│    └─ReLU: 2-19                        [20, 10, 8, 306]          --\n",
       "│    └─MaxPool2d: 2-20                   [20, 10, 4, 153]          --\n",
       "├─LSTM: 1-5                              [10, 2, 30]               738,240\n",
       "├─Sequential: 1-6                        [10, 4]                   --\n",
       "│    └─Linear: 2-21                      [10, 256]                 7,936\n",
       "│    └─ReLU: 2-22                        [10, 256]                 --\n",
       "│    └─Dropout: 2-23                     [10, 256]                 --\n",
       "│    └─Linear: 2-24                      [10, 4]                   1,028\n",
       "==========================================================================================\n",
       "Total params: 753,674\n",
       "Trainable params: 753,674\n",
       "Non-trainable params: 0\n",
       "Total mult-adds (Units.GIGABYTES): 9.69\n",
       "==========================================================================================\n",
       "Input size (MB): 25.75\n",
       "Forward/backward pass size (MB): 1301.81\n",
       "Params size (MB): 3.01\n",
       "Estimated Total Size (MB): 1330.58\n",
       "=========================================================================================="
      ]
     },
     "execution_count": 88,
     "metadata": {},
     "output_type": "execute_result"
    }
   ],
   "source": [
    "from torchinfo import summary\n",
    "\n",
    "# Setup device agnostic code\n",
    "device = \"cuda\" if torch.cuda.is_available() else \"cpu\"\n",
    "X_train_sample, y_train_sample = next(iter(train_dataloader))\n",
    "\n",
    "# Pass the data through the convolutional layer\n",
    "Batch_size, Seq_length, Channel_in, Height, Width = X_sample.shape\n",
    "\n",
    "print(f\"Batch_size: {Batch_size}\")\n",
    "print(f\"Seq_Length: {Seq_length}\")\n",
    "print(f\"Channel_in: {Channel_in}\")\n",
    "print(f\"Height: {Height}\")\n",
    "print(f\"Width: {Width}\")\n",
    "\n",
    "# Let's intialize the model (Batch, Seq, 1, 128, 2515)\n",
    "model = TinyVGGLSTM(cnn_input_shape = Channel_in,\n",
    "                lstm_input_shape = 6120,\n",
    "                cnn_hidden_units = 10,\n",
    "                lstm_hidden_units = 30,\n",
    "                output_shape=len(np.unique(labels_composer))).to(device)\n",
    "summary(model, input_size=(Batch_size,  Seq_length,\\\n",
    "         Channel_in, Height, Width))"
   ]
  },
  {
   "cell_type": "code",
   "execution_count": 89,
   "id": "34bd2bbe",
   "metadata": {},
   "outputs": [
    {
     "name": "stdout",
     "output_type": "stream",
     "text": [
      "tensor([[0.2423, 0.2471, 0.2642, 0.2465],\n",
      "        [0.2417, 0.2479, 0.2631, 0.2473],\n",
      "        [0.2411, 0.2474, 0.2657, 0.2459],\n",
      "        [0.2436, 0.2430, 0.2634, 0.2500],\n",
      "        [0.2425, 0.2461, 0.2626, 0.2488],\n",
      "        [0.2415, 0.2478, 0.2648, 0.2460],\n",
      "        [0.2410, 0.2462, 0.2641, 0.2487],\n",
      "        [0.2422, 0.2475, 0.2646, 0.2457],\n",
      "        [0.2411, 0.2473, 0.2648, 0.2468],\n",
      "        [0.2427, 0.2473, 0.2642, 0.2459]])\n",
      "tensor([2, 2, 2, 2, 2, 2, 2, 2, 2, 2])\n"
     ]
    }
   ],
   "source": [
    "model.eval()\n",
    "with torch.inference_mode():\n",
    "    ylogits = model(X_train_sample)\n",
    "print(torch.softmax(ylogits, dim = 1))\n",
    "print(torch.argmax(torch.softmax(ylogits, dim = 1), dim = 1))"
   ]
  },
  {
   "cell_type": "code",
   "execution_count": 90,
   "id": "5e4d16ad",
   "metadata": {},
   "outputs": [],
   "source": [
    "import torch.nn as nn\n",
    "import torch\n",
    "\n",
    "# With weights\n",
    "loss_fn = nn.CrossEntropyLoss(weight=torch.tensor(y_train_rev_percs))\n",
    "\n",
    "# Without weights\n",
    "#loss_fn = nn.CrossEntropyLoss()\n",
    "\n",
    "optimizer = torch.optim.Adam(params=model.parameters(),\n",
    "                             lr=0.001)"
   ]
  },
  {
   "cell_type": "markdown",
   "id": "d8c1c342",
   "metadata": {},
   "source": [
    "### Well, now happens the next part. training!\n",
    "We would subdivide this into three main functions\n",
    "1. `train_step` function to perform a single train step for a specific `batch` of data.\n",
    "2. `test_step` function to perform a single test step for a specific `batch` of data.\n",
    "3. `train` function that combines `train_step` and `test_step` to train a model.    "
   ]
  },
  {
   "cell_type": "code",
   "execution_count": 91,
   "id": "a2003551",
   "metadata": {},
   "outputs": [],
   "source": [
    "from typing import Tuple, Dict, List\n",
    "from tqdm import tqdm\n",
    "\n",
    "def train_step(model:torch.nn.Module,\n",
    "               dataloader:torch.utils.data.DataLoader,\n",
    "               loss_fn:torch.nn.Module,\n",
    "               optimizer:torch.optim.Optimizer,\n",
    "               device:torch.device) -> Tuple[float, float]:\n",
    "  \"\"\"Trains a PyTorch model for a single epoch.\n",
    "\n",
    "  Turns a target PyTorch model to training mode and then\n",
    "  runs through all of the required training steps (forward\n",
    "  pass, loss calculation, optimizer step).\n",
    "\n",
    "  Args:\n",
    "    model: A PyTorch model to be trained.\n",
    "    dataloader: A DataLoader instance for the model to be trained on.\n",
    "    loss_fn: A PyTorch loss function to minimize.\n",
    "    optimizer: A PyTorch optimizer to help minimize the loss function.\n",
    "    device: A target device to compute on (e.g. \"cuda\" or \"cpu\").\n",
    "\n",
    "  Returns:\n",
    "    A tuple of training loss and training accuracy mse metrics.\n",
    "    In the form (train_loss, train_accuracy). For example:\n",
    "\n",
    "    (0.1112, 0.8743)\n",
    "\n",
    "  \"\"\"\n",
    "  # Put model in train mode\n",
    "  model.train()\n",
    "\n",
    "  # Setup train loss and train mse values\n",
    "  train_loss, train_acc = 0, 0\n",
    "  # Loop through data loader data batches\n",
    "  for batch, (X, y) in enumerate(dataloader):\n",
    "    \n",
    "    # Send data to target device\n",
    "    X, y = X.to(device), y.to(device)\n",
    "\n",
    "    # 1. Forward pass\n",
    "    y_logits = model(X)\n",
    "\n",
    "    # 2. Calculate the accumulate loss\n",
    "    loss = loss_fn(y_logits, y)\n",
    "    train_loss += loss.item()\n",
    "\n",
    "    # 3. Optimizer zero grad\n",
    "    optimizer.zero_grad()\n",
    "\n",
    "    # 4. Loss backward\n",
    "    loss.backward()\n",
    "    \n",
    "    # 5. Optimizer step, step, step\n",
    "    optimizer.step()\n",
    "\n",
    "    # Calculate and accumualte accuracy metric across all batches\n",
    "    y_pred_class = torch.argmax(torch.softmax(y_logits, dim = 1), dim = 1)\n",
    "    train_acc += (y_pred_class == y).sum().item()/len(y_logits)\n",
    "\n",
    "  # Adjust metrics to get average loss and accuracy per batch\n",
    "  train_loss = train_loss / len(dataloader)\n",
    "  train_acc = train_acc / len(dataloader)\n",
    "  return train_loss, train_acc"
   ]
  },
  {
   "cell_type": "code",
   "execution_count": 92,
   "id": "31121fad",
   "metadata": {},
   "outputs": [],
   "source": [
    "def test_step(model: torch.nn.Module,\n",
    "              dataloader: torch.utils.data.DataLoader,\n",
    "              loss_fn: torch.nn.Module,\n",
    "              device: torch.device) -> Tuple[float, float]:\n",
    "  \"\"\"Tests a PyTorch model for a single epoch.\n",
    "\n",
    "  Turns a target PyTorch model to \"eval\" mode and then performs\n",
    "  a forward pass on a testing dataset.\n",
    "\n",
    "  Args:\n",
    "    model: A PyTorch model to be tested.\n",
    "    dataloader: A DataLoader instance for the model to be tested on.\n",
    "    loss_fn: A PyTorch loss function to calculate loss on the test data.\n",
    "    device: A target device to compute on (e.g. \"cuda\" or \"cpu\").\n",
    "\n",
    "  Returns:\n",
    "    A tuple of testing loss and testing accuracy mse metrics.\n",
    "    In the form (test_loss, test_accuracy). For example:\n",
    "\n",
    "    (0.0223, 0.8985)\n",
    "  \"\"\"\n",
    "  # Put the model in eval mode\n",
    "  model.eval()\n",
    "\n",
    "  # Setup test loss and test accuracy values\n",
    "  test_loss, test_acc = 0, 0\n",
    "\n",
    "  # Turn on the inference context manager\n",
    "  with torch.inference_mode():\n",
    "    # Loop through DataLoader batches\n",
    "    for batch, (X, y) in enumerate(dataloader):\n",
    "      # Send the data to target device\n",
    "      X, y = X.to(device), y.to(device)\n",
    "\n",
    "      #1. Forward pass\n",
    "      y_logits = model(X)\n",
    "\n",
    "      #2. Calculate and accumulate the loss\n",
    "      loss = loss_fn(y_logits, y)\n",
    "      test_loss += loss.item()\n",
    "\n",
    "      # Calculate and accumualte accuracy metric across all batches\n",
    "      y_pred_class = torch.argmax(torch.softmax(y_logits, dim = 1), dim = 1)\n",
    "      test_acc += (y_pred_class == y).sum().item()/len(y_logits)\n",
    "\n",
    "  # Adjust metrics to get average loss and accuracy per batch\n",
    "  test_loss = test_loss / len(dataloader)\n",
    "  test_acc = test_acc / len(dataloader)\n",
    "  return test_loss, test_acc"
   ]
  },
  {
   "cell_type": "code",
   "execution_count": 93,
   "id": "1191509d",
   "metadata": {},
   "outputs": [],
   "source": [
    "def train(model: torch.nn.Module,\n",
    "          train_dataloader: torch.utils.data.DataLoader,\n",
    "          test_dataloader: torch.utils.data.DataLoader,\n",
    "          optimizer: torch.optim.Optimizer,\n",
    "          loss_fn: torch.nn.Module,\n",
    "          epochs: int,\n",
    "          device: torch.device) -> Dict[str, List[float]]:\n",
    "  \"\"\"Trains and tests a PyTorch model.\n",
    "\n",
    "  Passes a target PyTorch models through train_step() and test_step()\n",
    "  functions for a number of epochs, training and testing the model\n",
    "  in the same epoch loop.\n",
    "\n",
    "  Calculates, prints and stores evaluation metrics throughout.\n",
    "\n",
    "  Args:\n",
    "    model: A PyTorch model to be trained and tested.\n",
    "    train_dataloader: A DataLoader instance for the model to be trained on.\n",
    "    test_dataloader: A DataLoader instance for the model to be tested on.\n",
    "    optimizer: A PyTorch optimizer to help minimize the loss function.\n",
    "    loss_fn: A PyTorch loss function to calculate loss on both datasets.\n",
    "    epochs: An integer indicating how many epochs to train for.\n",
    "    device: A target device to compute on (e.g. \"cuda\" or \"cpu\").\n",
    "\n",
    "  Returns:\n",
    "    A dictionary of training and testing loss as well as training and\n",
    "    testing accuracy metrics. Each metric has a value in a list for\n",
    "    each epoch.\n",
    "    In the form: {train_loss: [...],\n",
    "                  train_acc: [...],\n",
    "                  test_loss: [...],\n",
    "                  test_acc: [...]}\n",
    "    For example if training for epochs=2:\n",
    "                 {train_loss: [2.0616, 1.0537],\n",
    "                  train_acc: [0.3945, 0.3945],\n",
    "                  test_loss: [1.2641, 1.5706],\n",
    "                  test_acc: [0.3400, 0.2973]}\n",
    "  \"\"\"\n",
    "  # Create empty results dictionary\n",
    "  results = {\"train_loss\": [],\n",
    "             \"train_acc\": [],\n",
    "             \"test_loss\": [],\n",
    "             \"test_acc\": []\n",
    "  }\n",
    "\n",
    "  # Loop through training and testing steps for a number of epochs\n",
    "  for epoch in tqdm(range(epochs)):\n",
    "      \n",
    "      train_loss, train_acc = train_step(model=model,\n",
    "                                          dataloader=train_dataloader,\n",
    "                                          loss_fn=loss_fn,\n",
    "                                          optimizer=optimizer,\n",
    "                                          device=device)\n",
    "      test_loss, test_acc = test_step(model=model,\n",
    "          dataloader=test_dataloader,\n",
    "          loss_fn=loss_fn,\n",
    "          device=device)\n",
    "\n",
    "      if (epoch + 1) % 1 == 0: \n",
    "        # Print out what's happening\n",
    "        print(\n",
    "            f\"Epoch: {epoch+1} | \"\n",
    "            f\"train_loss: {train_loss:.4f} | \"\n",
    "            f\"train_acc: {train_acc:.4f} | \"\n",
    "            f\"test_loss: {test_loss:.4f} | \"\n",
    "            f\"test_acc: {test_acc:.4f}\"\n",
    "        )\n",
    "\n",
    "      # Update results dictionary\n",
    "      results[\"train_loss\"].append(train_loss)\n",
    "      results[\"train_acc\"].append(train_acc)\n",
    "      results[\"test_loss\"].append(test_loss)\n",
    "      results[\"test_acc\"].append(test_acc)\n",
    "\n",
    "  # Return the filled results at the end of the epochs\n",
    "  return results"
   ]
  },
  {
   "cell_type": "markdown",
   "id": "19fb6209",
   "metadata": {},
   "source": [
    "### Let's train the model!"
   ]
  },
  {
   "cell_type": "code",
   "execution_count": 94,
   "id": "38201375",
   "metadata": {},
   "outputs": [
    {
     "name": "stderr",
     "output_type": "stream",
     "text": [
      " 11%|█         | 1/9 [01:27<11:38, 87.29s/it]"
     ]
    },
    {
     "name": "stdout",
     "output_type": "stream",
     "text": [
      "Epoch: 1 | train_loss: 1.3843 | train_acc: 0.2308 | test_loss: 1.4116 | test_acc: 0.1800\n"
     ]
    },
    {
     "name": "stderr",
     "output_type": "stream",
     "text": [
      " 22%|██▏       | 2/9 [02:52<10:02, 86.00s/it]"
     ]
    },
    {
     "name": "stdout",
     "output_type": "stream",
     "text": [
      "Epoch: 2 | train_loss: 1.3702 | train_acc: 0.3179 | test_loss: 1.4030 | test_acc: 0.3733\n"
     ]
    },
    {
     "name": "stderr",
     "output_type": "stream",
     "text": [
      " 33%|███▎      | 3/9 [04:17<08:32, 85.48s/it]"
     ]
    },
    {
     "name": "stdout",
     "output_type": "stream",
     "text": [
      "Epoch: 3 | train_loss: 1.2849 | train_acc: 0.3872 | test_loss: 1.4081 | test_acc: 0.2800\n"
     ]
    },
    {
     "name": "stderr",
     "output_type": "stream",
     "text": [
      " 44%|████▍     | 4/9 [05:42<07:06, 85.33s/it]"
     ]
    },
    {
     "name": "stdout",
     "output_type": "stream",
     "text": [
      "Epoch: 4 | train_loss: 1.1439 | train_acc: 0.4769 | test_loss: 1.1619 | test_acc: 0.4467\n"
     ]
    },
    {
     "name": "stderr",
     "output_type": "stream",
     "text": [
      " 56%|█████▌    | 5/9 [07:06<05:39, 84.96s/it]"
     ]
    },
    {
     "name": "stdout",
     "output_type": "stream",
     "text": [
      "Epoch: 5 | train_loss: 0.9390 | train_acc: 0.6051 | test_loss: 0.9933 | test_acc: 0.6267\n"
     ]
    },
    {
     "name": "stderr",
     "output_type": "stream",
     "text": [
      " 67%|██████▋   | 6/9 [08:29<04:12, 84.28s/it]"
     ]
    },
    {
     "name": "stdout",
     "output_type": "stream",
     "text": [
      "Epoch: 6 | train_loss: 0.7178 | train_acc: 0.7308 | test_loss: 0.9050 | test_acc: 0.6333\n"
     ]
    },
    {
     "name": "stderr",
     "output_type": "stream",
     "text": [
      " 78%|███████▊  | 7/9 [09:53<02:48, 84.26s/it]"
     ]
    },
    {
     "name": "stdout",
     "output_type": "stream",
     "text": [
      "Epoch: 7 | train_loss: 0.6601 | train_acc: 0.7333 | test_loss: 0.8439 | test_acc: 0.7267\n"
     ]
    },
    {
     "name": "stderr",
     "output_type": "stream",
     "text": [
      " 89%|████████▉ | 8/9 [11:18<01:24, 84.27s/it]"
     ]
    },
    {
     "name": "stdout",
     "output_type": "stream",
     "text": [
      "Epoch: 8 | train_loss: 0.4251 | train_acc: 0.8590 | test_loss: 0.7971 | test_acc: 0.6800\n"
     ]
    },
    {
     "name": "stderr",
     "output_type": "stream",
     "text": [
      "100%|██████████| 9/9 [12:41<00:00, 84.63s/it]"
     ]
    },
    {
     "name": "stdout",
     "output_type": "stream",
     "text": [
      "Epoch: 9 | train_loss: 0.2203 | train_acc: 0.9333 | test_loss: 0.7215 | test_acc: 0.7400\n",
      "[INFO] Total training time: 761.645 seconds\n"
     ]
    },
    {
     "name": "stderr",
     "output_type": "stream",
     "text": [
      "\n"
     ]
    }
   ],
   "source": [
    "#Train the model\n",
    "NUM_EPOCHS = 9\n",
    "from timeit import default_timer as timer\n",
    "\n",
    "# Start the timer\n",
    "start_time = timer()\n",
    "\n",
    "results = train(\n",
    "  model=model,\n",
    "  train_dataloader=train_dataloader,\n",
    "  test_dataloader=val_dataloader,\n",
    "  loss_fn=loss_fn,\n",
    "  optimizer=optimizer,\n",
    "  epochs=NUM_EPOCHS,\n",
    "  device=device)\n",
    "\n",
    "# End the timer and print out how long it took\n",
    "end_time = timer()\n",
    "print(f\"[INFO] Total training time: {end_time-start_time:.3f} seconds\")"
   ]
  },
  {
   "cell_type": "code",
   "execution_count": 100,
   "id": "0388583d",
   "metadata": {},
   "outputs": [
    {
     "data": {
      "image/png": "[encoded data removed]",
      "text/plain": [
       "<Figure size 2000x800 with 4 Axes>"
      ]
     },
     "metadata": {},
     "output_type": "display_data"
    }
   ],
   "source": [
    "# Let's plot them\n",
    "import matplotlib.pyplot as plt\n",
    "\n",
    "# Obtain the train_loss and validation loss\n",
    "train_loss = results[\"train_loss\"]\n",
    "test_loss = results[\"test_loss\"]\n",
    "train_accuracy = results[\"train_acc\"]\n",
    "test_accuracy = results[\"test_acc\"]\n",
    "epochs = range(1, len(train_loss) + 1)\n",
    "\n",
    "# Let's plot it\n",
    "fig = plt.figure(figsize=(20, 8))\n",
    "fig.suptitle(\"Comparison between train and Test loss\")\n",
    "ax1 = fig.add_subplot(2, 2, 1)\n",
    "ax1.plot(epochs, train_loss, label = \"Train loss\", color = \"r\")\n",
    "ax1.legend(loc = \"upper right\")\n",
    "ax2 = fig.add_subplot(2, 2, 2)\n",
    "ax2.plot(epochs, test_loss, label = \"Test loss\")\n",
    "ax2.legend(loc = \"upper right\")\n",
    "ax1 = fig.add_subplot(2, 2, 3)\n",
    "ax1.plot(epochs, train_accuracy, label = \"Train Accuracy\", color = \"r\")\n",
    "ax1.legend(loc = \"upper right\")\n",
    "ax2 = fig.add_subplot(2, 2, 4)\n",
    "ax2.plot(epochs, test_accuracy, label = \"Test Accuracy\")\n",
    "ax2.legend(loc = \"upper right\")\n",
    "plt.show()"
   ]
  },
  {
   "cell_type": "markdown",
   "id": "25e079ee",
   "metadata": {},
   "source": [
    "## Perfect!\n",
    "\n",
    "The model has indeed trained and tested properly. Now we need to do the following:\n",
    "- Evaluate the model: We would create an `model_eval()` function that would take the `test_dataloader` and retrieve the `y_predicted` and `y_test`.\n",
    "- Using the`y_predicted` and `y_test`, calculate: Accuracy, Precision, Recall, F1-score.\n",
    "- Analyze the results properly and see what might be necessary to increase the precision.\n",
    "- Create a function called `visualize_conv_activation()` to see the outputs of each conv layers properly."
   ]
  },
  {
   "cell_type": "code",
   "execution_count": 101,
   "id": "134ed9e7",
   "metadata": {},
   "outputs": [],
   "source": [
    "import numpy as np\n",
    "\n",
    "def eval(model:torch.nn.Module,\n",
    "         test_dataloader:DataLoader) -> None:\n",
    "    '''\n",
    "    Function that will evaluate the model.\n",
    "\n",
    "    Args:\n",
    "        model: nn.Module of model already trained\n",
    "        test_dataloader: Dataloader containing all of the test data\n",
    "    \n",
    "    Returns:\n",
    "        y_predictions, y_test = eval(model = trained_model,\n",
    "                    test_dataloader = test_dataloader)\n",
    "    '''\n",
    "    y_predictions = []\n",
    "    y_test = []\n",
    "\n",
    "    with torch.inference_mode():\n",
    "        for batch, (X, y) in enumerate(test_dataloader):\n",
    "            X, y = X.to(device), y.to(device)\n",
    "            y_logits = model(X)\n",
    "            y_pred_class = torch.argmax(torch.softmax(y_logits, dim = 1), dim = 1)\n",
    "            y_predictions.extend(y_pred_class.tolist())\n",
    "            y_test.extend(y.tolist())\n",
    "    return y_predictions, y_test"
   ]
  },
  {
   "cell_type": "code",
   "execution_count": 102,
   "id": "095484bd",
   "metadata": {},
   "outputs": [
    {
     "name": "stderr",
     "output_type": "stream",
     "text": [
      "c:\\Users\\ajedr\\OneDrive\\Documentos\\Masters_Post_Cert_AI_Stanford_USD_2023_2026\\Masters_AI_Workspace\\venv\\Lib\\site-packages\\torch\\utils\\data\\dataloader.py:665: UserWarning: 'pin_memory' argument is set as true but no accelerator is found, then device pinned memory won't be used.\n",
      "  warnings.warn(warn_msg)\n"
     ]
    }
   ],
   "source": [
    "# Lte's obtain these\n",
    "y_predictions, y_test = eval(model = model,\n",
    "            test_dataloader = test_dataloader)"
   ]
  },
  {
   "cell_type": "code",
   "execution_count": 98,
   "id": "54d27f46",
   "metadata": {},
   "outputs": [
    {
     "data": {
      "text/plain": [
       "(3, 3)"
      ]
     },
     "execution_count": 98,
     "metadata": {},
     "output_type": "execute_result"
    }
   ],
   "source": [
    "y_test[0], y_predictions[0]"
   ]
  },
  {
   "cell_type": "code",
   "execution_count": 104,
   "id": "71323b34",
   "metadata": {},
   "outputs": [
    {
     "name": "stdout",
     "output_type": "stream",
     "text": [
      "          accuracy    recall  precision  f1_score\n",
      "CNN_LSTM  0.717391  0.708003   0.720899  0.706513\n"
     ]
    },
    {
     "data": {
      "image/png": "[encoded data removed]",
      "text/plain": [
       "<Figure size 2000x800 with 2 Axes>"
      ]
     },
     "metadata": {},
     "output_type": "display_data"
    }
   ],
   "source": [
    "import pandas as pd\n",
    "\n",
    "from sklearn.metrics import accuracy_score, precision_score, recall_score, f1_score\n",
    "from sklearn.metrics import confusion_matrix,  ConfusionMatrixDisplay\n",
    "\n",
    "data = {\"accuracy\": accuracy_score(y_test, y_predictions),\n",
    "        \"recall\": recall_score(y_test, y_predictions, average=\"macro\"),\n",
    "        \"precision\": precision_score(y_test, y_predictions, average=\"macro\"),\n",
    "        \"f1_score\": f1_score(y_test, y_predictions, average=\"macro\")}\n",
    "\n",
    "df_results = pd.DataFrame([data], index=[\"CNN_LSTM\"])\n",
    "print(df_results)\n",
    "\n",
    "\n",
    "fig, ax = plt.subplots(figsize=(20, 8))\n",
    "cm = confusion_matrix(y_test, y_predictions)\n",
    "disp = ConfusionMatrixDisplay(confusion_matrix=cm)\n",
    "disp.plot(ax=ax)\n",
    "plt.show()"
   ]
  }
 ],
 "metadata": {
  "kernelspec": {
   "display_name": "venv",
   "language": "python",
   "name": "python3"
  },
  "language_info": {
   "codemirror_mode": {
    "name": "ipython",
    "version": 3
   },
   "file_extension": ".py",
   "mimetype": "text/x-python",
   "name": "python",
   "nbconvert_exporter": "python",
   "pygments_lexer": "ipython3",
   "version": "3.12.5"
  }
 },
 "nbformat": 4,
 "nbformat_minor": 5
}
