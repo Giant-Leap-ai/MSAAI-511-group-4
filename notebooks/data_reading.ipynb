{
 "cells": [
  {
   "cell_type": "markdown",
   "id": "26176381",
   "metadata": {},
   "source": [
    "# Final Project - Data Downloading\n",
    "- Course: AAI-511-Neural Networks\n",
    "- Institution: University of San Diego\n",
    "- Professor: Kahila Mokhtari Jadid\n",
    "- Group 4 Members: \n",
    "    * Lucas Young\n",
    "    * Titouan Margret\n",
    "    * Juan Pablo Triana Martinez\n",
    "\n",
    "The following jupyter notebook would contain a detailed version on the following:\n",
    "1. Using `kagglehub`, download the dataset into a data folder outside the notebooks directory.\n",
    "2. from the `data.zip` file, select the `midiclassics.zip` file and create a folder called project_data, divided into:\n",
    "    - Midi files for Bach.\n",
    "    - Midi files for Beethoven.\n",
    "    - Midi files for Chopin\n",
    "    - Midi files for Mozart\n",
    "3. Using `mido`, read the files of the following 4 composers."
   ]
  },
  {
   "cell_type": "code",
   "execution_count": 13,
   "id": "9d64a906",
   "metadata": {},
   "outputs": [
    {
     "name": "stdout",
     "output_type": "stream",
     "text": [
      "Notebook is running from: /Users/lucasyoung/MSAAI-511-group-4/msaa511_env/bin/python\n",
      "['/Users/lucasyoung/MSAAI-511-group-4/msaa511_env/lib/python3.12/site-packages']\n"
     ]
    }
   ],
   "source": [
    "import sys, site, pprint\n",
    "print(\"Notebook is running from:\", sys.executable)\n",
    "pprint.pprint(site.getsitepackages())      # optional: shows where it looks for packages\n"
   ]
  },
  {
   "cell_type": "code",
   "execution_count": 14,
   "id": "76be17c4",
   "metadata": {},
   "outputs": [],
   "source": [
    "# Import necessary modules\n",
    "import kagglehub\n",
    "from pathlib import Path\n",
    "import os"
   ]
  },
  {
   "cell_type": "code",
   "execution_count": 15,
   "id": "c0ba39e9",
   "metadata": {},
   "outputs": [
    {
     "name": "stdout",
     "output_type": "stream",
     "text": [
      "Downloading from https://www.kaggle.com/api/v1/datasets/download/blanderbuss/midi-classic-music?dataset_version_number=1...\n"
     ]
    },
    {
     "name": "stderr",
     "output_type": "stream",
     "text": [
      "100%|██████████| 68.2M/68.2M [00:12<00:00, 5.65MB/s]"
     ]
    },
    {
     "name": "stdout",
     "output_type": "stream",
     "text": [
      "Extracting files...\n"
     ]
    },
    {
     "name": "stderr",
     "output_type": "stream",
     "text": [
      "\n"
     ]
    },
    {
     "name": "stdout",
     "output_type": "stream",
     "text": [
      "Path to dataset files: /Users/lucasyoung/MSAAI-511-group-4/data/datasets/blanderbuss/midi-classic-music/versions/1\n"
     ]
    }
   ],
   "source": [
    "# Obtain current path and data folder path\n",
    "curr_path = Path.cwd()\n",
    "data_path = curr_path.parent / \"data\"\n",
    "\n",
    "#Setup download path to specific data fold (GENUIENLY, Why Kaggelhub :) )\n",
    "os.environ[\"KAGGLEHUB_CACHE\"] = data_path.__str__()\n",
    "\n",
    "if data_path.exists():\n",
    "    print(f\"{data_path}: Already exists, no need to create a new one\")\n",
    "else:\n",
    "    data_path.mkdir(parents=True, exist_ok=True)\n",
    "\n",
    "# Download latest version\n",
    "path = kagglehub.dataset_download(\"blanderbuss/midi-classic-music\")\n",
    "print(\"Path to dataset files:\", path)"
   ]
  },
  {
   "cell_type": "markdown",
   "id": "42a853a7",
   "metadata": {},
   "source": [
    "### Well! We have the following:\n",
    "`data -> datasets -> blanderbuss -> midi-classic -> versions -> 1 -> midiclassics`\n",
    "\n",
    "Inside this directory called `midiclassics`, we want to retrieve the midi files of:\n",
    "- Midi files for Bach.\n",
    "- Midi files for Beethoven.\n",
    "- Midi files for Chopin\n",
    "- Midi files for Mozart\n",
    "\n",
    "Where each composer is a directory with an uneven amount of MIDI files and zip files that contain more midi files!\n",
    "\n",
    "### Let's create a class to retrieve the data"
   ]
  },
  {
   "cell_type": "code",
   "execution_count": 16,
   "id": "10b54396",
   "metadata": {},
   "outputs": [],
   "source": [
    "from typing import List, Tuple\n",
    "class DataRetriever:\n",
    "    '''\n",
    "    Class that would access a data folder\n",
    "    containg multiple directories and zip files,\n",
    "    where we would retrieve the MIDI files from:\n",
    "        - Bach\n",
    "        - Beethoven\n",
    "        - Chopin\n",
    "        - Mozart\n",
    "    \n",
    "    Args:\n",
    "        data_path: pathlib path to the data folder where the data is contained\n",
    "    \n",
    "    Returns:\n",
    "        retrieved_path: pathlib path where all the midi files of the 4 desired\n",
    "        composers are.\n",
    "    \n",
    "    Example:\n",
    "        retriever = DataRetriever(data_path = set_path)\n",
    "        retrieved_path = retriever.subdivide_data()\n",
    "    '''\n",
    "\n",
    "    from pathlib import Path\n",
    "import shutil\n",
    "\n",
    "class DataRetriever:\n",
    "    def __init__(self, data_path: Path):\n",
    "        self.data_path = data_path\n",
    "        self.dataset_path = data_path / \"datasets\"\n",
    "\n",
    "        # Explicit, ordered list — not a set\n",
    "        self.composers = [\"Bach\", \"Beethoven\", \"Chopin\", \"Mozart\"]\n",
    "\n",
    "        # Map composer → destination Path\n",
    "        self.dest_dirs = {\n",
    "            c: (data_path / \"final_proj_data\" / c)\n",
    "            for c in self.composers\n",
    "        }\n",
    "        for p in self.dest_dirs.values():\n",
    "            p.mkdir(parents=True, exist_ok=True)\n",
    "\n",
    "    def subdivide_data(self) -> Path:\n",
    "        # Walk once and route every .mid by *name*, not by index\n",
    "        for root, dirs, files in self.dataset_path.walk():\n",
    "            composer = Path(root).name       # deepest directory’s name\n",
    "            if composer not in self.dest_dirs:\n",
    "                continue\n",
    "\n",
    "            for f in files:\n",
    "                if f.endswith(\".mid\"):\n",
    "                    src = Path(root) / f\n",
    "                    dst = self.dest_dirs[composer] / f\n",
    "\n",
    "                    # If a file with the same name exists, append a suffix\n",
    "                    if dst.exists():\n",
    "                        dst = dst.with_stem(dst.stem + \"_\" + src.parent.name)\n",
    "\n",
    "                    shutil.copy2(src, dst)   # copy to keep original intact\n",
    "        return self.data_path / \"final_proj_data\"\n"
   ]
  },
  {
   "cell_type": "code",
   "execution_count": 17,
   "id": "460bfcd1",
   "metadata": {},
   "outputs": [
    {
     "name": "stdout",
     "output_type": "stream",
     "text": [
      "/Users/lucasyoung/MSAAI-511-group-4/data/final_proj_data\n"
     ]
    }
   ],
   "source": [
    "retriever = DataRetriever(data_path = data_path)\n",
    "retrieved_path = retriever.subdivide_data()\n",
    "print(retrieved_path)"
   ]
  }
 ],
 "metadata": {
  "kernelspec": {
   "display_name": "venv",
   "language": "python",
   "name": "python3"
  },
  "language_info": {
   "codemirror_mode": {
    "name": "ipython",
    "version": 3
   },
   "file_extension": ".py",
   "mimetype": "text/x-python",
   "name": "python",
   "nbconvert_exporter": "python",
   "pygments_lexer": "ipython3",
   "version": "3.12.0"
  }
 },
 "nbformat": 4,
 "nbformat_minor": 5
}
